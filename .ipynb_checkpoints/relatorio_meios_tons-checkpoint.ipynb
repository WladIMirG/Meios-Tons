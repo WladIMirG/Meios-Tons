{
 "cells": [
  {
   "cell_type": "markdown",
   "id": "4d1e4125-69ab-4f5c-90ae-3dab810d5afb",
   "metadata": {},
   "source": [
    "# <center>**Work 1: Meios Tons**</center>\n",
    "# <center>Wladimir Arturo Garces Carrillo</center>\n",
    "### <center>RA204059</center>\n",
    "#### <center>MO443_1s2022</center>"
   ]
  },
  {
   "cell_type": "markdown",
   "id": "d058c77d-a284-4b2b-a415-bbf78632d7e8",
   "metadata": {
    "tags": []
   },
   "source": [
    "# **Considerações iniciais**"
   ]
  },
  {
   "cell_type": "markdown",
   "id": "eb9b4568-8f8b-462d-b1bd-0c2e7bef609d",
   "metadata": {
    "tags": []
   },
   "source": [
    "## **Entradas**"
   ]
  },
  {
   "cell_type": "markdown",
   "id": "be550144-68d7-443e-b1a6-c0b58fb8e56b",
   "metadata": {
    "jp-MarkdownHeadingCollapsed": true,
    "tags": []
   },
   "source": [
    ">#### São considerados para entrada:\n",
    ">\n",
    ">>- Imagem em formato \"png\".\n",
    ">>- Tipo de filtro (Entre os autores disponibei).\n",
    ">>- Modo.\n",
    ">>- Formato de cor.\n",
    ">>- Nome da imgem de saida."
   ]
  },
  {
   "cell_type": "markdown",
   "id": "333a218f-85ad-4a3c-94b8-481e183505b8",
   "metadata": {
    "tags": []
   },
   "source": [
    "## **Formato de entrada**\n",
    "\n",
    "<center>python run.py  *|img_in|  |Filtro|  |mode|  |Formato de cor| |img out| |cv2|*</center>"
   ]
  },
  {
   "cell_type": "markdown",
   "id": "e72a7154-cb5f-43fa-afa5-574d873505c5",
   "metadata": {},
   "source": [
    ">### **Img_in:**\n",
    ">Refere-se ao nome do arquivo de imagem que será fornecido ao sistema como uma string. Deve-se considerar que o arquivo com este nome reside na pasta *imagem/* e que o nome contém a extensão do arquivo em *.png\".\n",
    ">\n",
    ">### **Filtro:**\n",
    ">Refere-se ao nome do autor do filtro.\n",
    ">>- Floyd e Steinberg\n",
    ">>- Stevenson e Arce\n",
    ">>- Burkes\n",
    ">>- Sierra\n",
    ">>- Stucki\n",
    ">>- Jarvis, Judice e Ninke\n",
    ">\n",
    ">### **Mode:**\n",
    ">Refere-se ao modo em que o filtro vai rolar por a imagem.\n",
    ">>- L2R: Izquerda para dereita.\n",
    ">>- ZigZag: Recorrido em ZigZag.\n",
    ">\n",
    ">### **Formato de cor:**\n",
    ">Refere-se ao formato do cor em que se pode aplicar o filtro.\n",
    ">>- GRAY.\n",
    ">>- YCrCb.\n",
    ">>- HSV.\n",
    ">>- HLS.\n",
    ">>- Lab.\n",
    ">\n",
    ">### **Img_out:**\n",
    ">Refere-se ao nome da imagem que será devolvida e guardada por o sistema em formato png. Deve-se considerar que o arquivo com este nome reside na pasta *imagem/* e que o nome contém a extensão do arquivo em *.png\"."
   ]
  },
  {
   "cell_type": "markdown",
   "id": "1c301081-3a6f-4fa1-a3d8-559a9742d23a",
   "metadata": {
    "tags": []
   },
   "source": [
    "# Uso\n",
    ">Os pacotes necessários para executar corretamente este arquivo são numpy e opencv, que são instalados com os seguintes comandos de um console.\n",
    "\n",
    "<center>pip install numpy</center> \n",
    "<center>pip install opencv-python</center>"
   ]
  },
  {
   "cell_type": "markdown",
   "id": "13df49fd-f4e6-4bd5-ac3b-ceacbcba206d",
   "metadata": {
    "tags": []
   },
   "source": [
    "# **Processo**\n",
    "\n",
    ">O processo do programa é descrito abaixo\n",
    ">>- Cargar la imagen.\n",
    ">>- convertir a otro espacio de color.\n",
    ">>- Pasar filtro.\n",
    ">>- empaquetar.\n",
    ">>- Guardar imagen.\n",
    ">\n",
    ">O processo descrito acima é encontrado na função de python a seguir."
   ]
  },
  {
   "cell_type": "code",
   "execution_count": null,
   "id": "98377529-e7fa-4a19-ac24-c3223c325d51",
   "metadata": {},
   "outputs": [],
   "source": [
    "def process(img_name : str = \"baboon.png\",\n",
    "            autor_name:str=\"Floyd_steinberg\",\n",
    "            mode:str=\"L2R\",\n",
    "            cor_spec:str=\"BGR\",\n",
    "            imgout_name:str=\"imagem_fil.png\",\n",
    "            pt:str=\"cv2\"):\n",
    "    \n",
    "    # print(img_name)\n",
    "    img_original = load_img(img_name)\n",
    "    new_img      = func[cor_spec](img_original.array.copy(),\n",
    "                                  autor_name,\n",
    "                                  mode)\n",
    "    \n",
    "    \n",
    "    cv2.imwrite(\"imagens/\"+imgout_name, new_img)\n",
    "    cv2.imshow(\"original\", img_original.array)\n",
    "    cv2.imshow(imgout_name, new_img)\n",
    "    cv2.waitKey(0)\n",
    "    cv2.destroyAllWindows()"
   ]
  },
  {
   "cell_type": "markdown",
   "id": "b3f0196c-8390-404c-b5e1-ef21109507ae",
   "metadata": {
    "tags": []
   },
   "source": [
    "#\n",
    ">Em *\"func[cor_spec]\"* é onde você encontra a transformação de cores e aplicação de filtros de acordo com o espaço de cores fornecido na entrada. Portanto, para o espaço BGR, o filtro é aplicado em cada espaço de cores. Para os formatos HSV e Lab o filtro é aplicado apenas nos slots de luminância (*V* para HSV e *L* para Lab), as funções abaixo levam em conta."
   ]
  },
  {
   "cell_type": "code",
   "execution_count": null,
   "id": "099f9357-42c7-445c-bae6-298238a33788",
   "metadata": {},
   "outputs": [],
   "source": [
    "def gray(array, aut, mode):\n",
    "    img_trans    = cv2.cvtColor(array,\n",
    "                                color_space[\"GRAY\"])\n",
    "    array = meios_tons(array, aut, mode)\n",
    "    img_trans    = cv2.cvtColor(array,\n",
    "                                space_color[\"GRAY\"])\n",
    "    return array\n",
    "\n",
    "def bgr(array, aut, mode):\n",
    "    array[:,:,0] = meios_tons(array[:,:,0], aut, mode)\n",
    "    array[:,:,1] = meios_tons(array[:,:,1], aut, mode)\n",
    "    array[:,:,2] = meios_tons(array[:,:,2], aut, mode)\n",
    "    return array\n",
    "\n",
    "def hsv(array, aut, mode):\n",
    "    array    = cv2.cvtColor(array,\n",
    "                            color_space[\"HSV\"])\n",
    "    array[:,:,2] = meios_tons(array[:,:,2], aut, mode)\n",
    "    array    = cv2.cvtColor(array,\n",
    "                            space_color[\"HSV\"])\n",
    "    return array\n",
    "\n",
    "def lab(array, aut, mode):\n",
    "    array    = cv2.cvtColor(array,\n",
    "                            color_space[\"Lab\"])\n",
    "    array[:,:,0] = meios_tons(array[:,:,2], aut, mode)\n",
    "    array    = cv2.cvtColor(array,\n",
    "                            space_color[\"Lab\"])\n",
    "    return array"
   ]
  },
  {
   "cell_type": "markdown",
   "id": "d7b7081f-75a4-46d6-b593-adfbf2c157a1",
   "metadata": {
    "tags": []
   },
   "source": [
    "#\n",
    ">Em relação à técnica de puntilhado com difusão de erros, aplica-se o algoritmo proposto por *Floyd e Steinberg*."
   ]
  },
  {
   "cell_type": "code",
   "execution_count": null,
   "id": "fa80c784-c324-43b4-babf-7bb670c3cdaa",
   "metadata": {},
   "outputs": [],
   "source": [
    "def meios_tons(array, nome: str = \"Floyd_steinberg\", mode: str = \"L2R\"):\n",
    "    g = np.zeros(array.shape)\n",
    "    h, w = array.shape\n",
    "    a, b = aut[nome][\"val\"]\n",
    "    tipo = aut[nome][\"array\"]\n",
    "    invert = list(range(b, w - b))\n",
    "    \n",
    "    for y in range(h - a):\n",
    "        for x in invert:\n",
    "            g[y, x] = 0 if array[y, x] < 128 else 255\n",
    "            erro = array[y,x] - g[y,x]\n",
    "            win = array[y:y+a+1, x-b:x+b+1]\n",
    "            array[y:y+a+1, x-b:x+b+1] = win + np.round(tipo*erro)\n",
    "        if mode == \"ZigZag\":\n",
    "            invert.reverse()\n",
    "            tipo = tipo[:, ::-1]\n",
    "    return g"
   ]
  },
  {
   "cell_type": "markdown",
   "id": "bc636daf-c0ad-493a-9d97-0c2b4fd66a11",
   "metadata": {
    "tags": []
   },
   "source": [
    "# Experimentos\n",
    "\n",
    ">Los experimentos se realizaran con la imgen baboon.png. A medida que se avance en los experimentos se usaran"
   ]
  },
  {
   "cell_type": "markdown",
   "id": "a866d31a-a435-464a-bfec-6534b9a5bab2",
   "metadata": {
    "tags": []
   },
   "source": [
    "## **GRAY**"
   ]
  },
  {
   "cell_type": "markdown",
   "id": "7d900b3d-b73e-4301-b1ae-f46fdcf86ff7",
   "metadata": {
    "tags": []
   },
   "source": [
    "### **Floyd steinberg**"
   ]
  },
  {
   "cell_type": "markdown",
   "id": "debb52ed-acfb-4541-adb2-2161b5513e29",
   "metadata": {},
   "source": [
    ">##### Floyd_steinberg Left to rigth"
   ]
  },
  {
   "cell_type": "code",
   "execution_count": 1,
   "id": "b1e3db08-b009-4b19-ae34-efeea1ca1726",
   "metadata": {},
   "outputs": [],
   "source": [
    "%run run.py baboon.png Floyd_steinberg L2R GRAY l2r_floyd_steinberg_result_gray.png \"cv2\""
   ]
  },
  {
   "cell_type": "markdown",
   "id": "3ffb7e46-bf82-454a-a9bc-35a186cf31c2",
   "metadata": {
    "tags": []
   },
   "source": [
    ">##### Floyd_steinberg ZigZag"
   ]
  },
  {
   "cell_type": "code",
   "execution_count": 2,
   "id": "a56b3079-b030-46df-9020-c72b65713f04",
   "metadata": {},
   "outputs": [],
   "source": [
    "%run run.py baboon.png Floyd_steinberg ZigZag GRAY zigzag_floyd_steinberg_result_gray.png \"cv2\""
   ]
  },
  {
   "cell_type": "markdown",
   "id": "5ee1b987-d329-4723-b371-4ab045983eae",
   "metadata": {
    "tags": []
   },
   "source": [
    "##### **Resultados Floyd_steinberg**"
   ]
  },
  {
   "cell_type": "markdown",
   "id": "c6ea6b8e-923d-45d4-b0fb-a9c7ab8b7a4a",
   "metadata": {
    "tags": []
   },
   "source": [
    "<center>\n",
    "    <figure>\n",
    "        <div>\n",
    "            <img src=\"imagens/baboon.png\"\n",
    "                 style=\"width:512px;height:512px\"\n",
    "                 title=\"Original\"\n",
    "                 align=botton/>\n",
    "        </div>\n",
    "        <div>\n",
    "            <img src=\"results/l2r_floyd_steinberg_result_gray.png\"\n",
    "                 style=\"width:512px;height:512px\"\n",
    "                 title=\"l2r_floyd_steinberg_result_gray\"/>\n",
    "        </div>\n",
    "        <div>\n",
    "            <img src=\"results/zigzag_floyd_steinberg_result_gray.png\"\n",
    "                 style=\"width:512px;height:512px\"\n",
    "                 title=\"zigzag_floyd_steinberg_result_gray\"/>\n",
    "        <figcaption>Fig 1. Por ordem decrescente a imagem original, a imagem pontilhada com Floyd_steinberg Left to Rigth, a imagem pontilhada com Floyd_steinberg ZigZag</figcaption>\n",
    "        </div>\n",
    "    </figure>\n",
    "</center>\n"
   ]
  },
  {
   "cell_type": "markdown",
   "id": "781e1496-7a20-42f7-a955-b2fa31fcb260",
   "metadata": {},
   "source": [
    ">Na imagem anterior você pode ver a passagem do filtro da Esquerda para a Direita e em ZigZag. A diferença entre os filtros é evidente porque padrões perceptíveis são criados como pequenos buracos atípicas."
   ]
  },
  {
   "cell_type": "markdown",
   "id": "017bf087-5768-4558-9ad3-c03a80a6f181",
   "metadata": {
    "tags": []
   },
   "source": [
    "### **Stevenson arce**"
   ]
  },
  {
   "cell_type": "markdown",
   "id": "6f693b35-0f8f-4745-acb4-2128fd306730",
   "metadata": {},
   "source": [
    ">##### Stevenson_arce Left to Rigth"
   ]
  },
  {
   "cell_type": "code",
   "execution_count": 3,
   "id": "306ecc0d-9bf9-440d-9e4d-0b81322d3a74",
   "metadata": {},
   "outputs": [],
   "source": [
    "%run run.py baboon.png Stevenson_arce L2R GRAY l2r_stevenson_arce_result_gray.png \"cv2\""
   ]
  },
  {
   "cell_type": "markdown",
   "id": "3d763a79-fffe-4c83-b2be-b829f38c4d1d",
   "metadata": {},
   "source": [
    ">##### Stevenson_arce ZigZag"
   ]
  },
  {
   "cell_type": "code",
   "execution_count": 4,
   "id": "08e3b2ef-032f-4475-8a44-d542883c2936",
   "metadata": {},
   "outputs": [],
   "source": [
    "%run run.py baboon.png Stevenson_arce ZigZag GRAY zigzag_stevenson_arce_result_gray.png \"cv2\""
   ]
  },
  {
   "cell_type": "markdown",
   "id": "9ab48793-0a52-4b7a-83a3-8ee6345313bb",
   "metadata": {
    "tags": []
   },
   "source": [
    "##### **Resultados Stevenson_arce**"
   ]
  },
  {
   "cell_type": "markdown",
   "id": "fb22b9bf-5947-4182-9eef-91f516a7082e",
   "metadata": {},
   "source": [
    "<center>\n",
    "    <div>\n",
    "        <img src=\"imagens/baboon.png\"\n",
    "             tyle=\"width:512px;height:512px\"\n",
    "             title=\"Original\"\n",
    "             align=botton/>\n",
    "    </div>\n",
    "    <div>\n",
    "        <img src=\"results/l2r_stevenson_arce_result_gray.png\"\n",
    "             style=\"width:512px;height:512px\"\n",
    "             title=\"l2r_stevenson_arce_result_gray\"/>\n",
    "    </div>\n",
    "    <div>\n",
    "        <img src=\"results/zigzag_stevenson_arce_result_gray.png\"\n",
    "             style=\"width:512px;height:512px\"\n",
    "             title=\"zigzag_stevenson_arce_result_gray\"/>\n",
    "    </div>\n",
    "    <figcaption>Fig 2. Por ordem decrescente a imagem original, a imagem pontilhada com Stevenson_arce Left to Rigth, a imagem pontilhada com Stevenson_arce ZigZag</figcaption>\n",
    "</center>"
   ]
  },
  {
   "cell_type": "markdown",
   "id": "fba4de93-3931-4ccc-ac23-b17f93092873",
   "metadata": {},
   "source": [
    ">Neste caso a diferença não é tão significativa."
   ]
  },
  {
   "cell_type": "markdown",
   "id": "f08e415d-cbfd-4893-b85b-93b8077ea2c1",
   "metadata": {
    "tags": []
   },
   "source": [
    "## **HSV**"
   ]
  },
  {
   "cell_type": "markdown",
   "id": "a826a1fb-aeff-4fea-81ca-73dabbc757fe",
   "metadata": {
    "tags": []
   },
   "source": [
    "### **Burkes**"
   ]
  },
  {
   "cell_type": "markdown",
   "id": "d2a64e10-5967-4598-90c5-79d04413bbb9",
   "metadata": {},
   "source": [
    ">##### Burkes Left to Rigth"
   ]
  },
  {
   "cell_type": "code",
   "execution_count": 5,
   "id": "5c5a2820-7877-43e0-a193-3342f8b3318d",
   "metadata": {},
   "outputs": [],
   "source": [
    "%run run.py baboon.png Burkes L2R HSV l2r_burkes_result_hsv.png \"cv2\""
   ]
  },
  {
   "cell_type": "markdown",
   "id": "9b76fdbe-5148-4d41-9652-3a392a3fe376",
   "metadata": {},
   "source": [
    ">##### Burkes ZigZag"
   ]
  },
  {
   "cell_type": "code",
   "execution_count": 6,
   "id": "7e0adfa9-e0ef-44a8-868e-59af4066eb7a",
   "metadata": {},
   "outputs": [],
   "source": [
    "%run run.py baboon.png Burkes ZigZag HSV zigzag_burkes_result_hsv.png \"cv2\""
   ]
  },
  {
   "cell_type": "markdown",
   "id": "57fffc5a-d2f2-4a52-abe3-7d388a5edeb3",
   "metadata": {
    "tags": []
   },
   "source": [
    "##### **Resultados Burkes**"
   ]
  },
  {
   "cell_type": "markdown",
   "id": "a0d1d039-bab8-4bdd-a80a-df97d009a9f4",
   "metadata": {},
   "source": [
    "<center>\n",
    "    <figure>\n",
    "        <div>\n",
    "            <img src=\"imagens/baboon.png\"\n",
    "                 style=\"width:512px;height:512px\"\n",
    "                 title=\"Original\"\n",
    "                 align=botton/>\n",
    "        </div>\n",
    "        <div>\n",
    "            <img src=\"results/l2r_burkes_result_hsv.png\"\n",
    "                 style=\"width:512px;height:512px\"\n",
    "                 title=\"l2r_burkes_result_hsv\"/>\n",
    "        </div>\n",
    "        <div>\n",
    "            <img src=\"results/zigzag_burkes_result_hsv.png\"\n",
    "                 style=\"width:512px;height:512px\"\n",
    "                 title=\"ZigZag_burkes_result_hsv\"/>\n",
    "        </div>\n",
    "        <figcaption>Fig 3. Por ordem decrescente a imagem original, a imagem pontilhada com Burkes Left to Rigth, a imagem pontilhada com Burkes ZigZag</figcaption>\n",
    "    </figure>\n",
    "</center>"
   ]
  },
  {
   "cell_type": "markdown",
   "id": "19ce824a-1f32-4448-8395-1ba7aaee08a4",
   "metadata": {},
   "source": [
    ">Neste caso vemos como o filtro gera pequenos pontos distribuídos pela imagem. A distribuição do erro também é perceptível quando olhamos para algumas áreas que antes eram mais escuras."
   ]
  },
  {
   "cell_type": "markdown",
   "id": "a135405a-e4b3-47a7-beb1-1e6019e61513",
   "metadata": {
    "tags": []
   },
   "source": [
    "### **Sierra**"
   ]
  },
  {
   "cell_type": "markdown",
   "id": "9b1ba71e-338b-431b-bd48-993b445e61cd",
   "metadata": {},
   "source": [
    ">##### Sierra Left to Rigth"
   ]
  },
  {
   "cell_type": "code",
   "execution_count": 7,
   "id": "90d650f5-f024-4a81-9e7f-7ac16ceb1b8d",
   "metadata": {},
   "outputs": [],
   "source": [
    "%run run.py baboon.png Sierra L2R HSV l2r_sierra_result_hsv.png \"cv2\""
   ]
  },
  {
   "cell_type": "markdown",
   "id": "4e5737bb-a12b-469a-bde5-140cbf6c58c5",
   "metadata": {},
   "source": [
    ">##### Sierra ZigZag"
   ]
  },
  {
   "cell_type": "code",
   "execution_count": 8,
   "id": "047fc496-15ee-4d39-8db9-7432b1403f12",
   "metadata": {},
   "outputs": [],
   "source": [
    "%run run.py baboon.png Sierra ZigZag HSV zigzag_sierra_result_hsv.png \"cv2\""
   ]
  },
  {
   "cell_type": "markdown",
   "id": "cc2afadc-74bd-45b1-bd76-b4fe20f37749",
   "metadata": {
    "tags": []
   },
   "source": [
    "##### **Resultados Sierra**"
   ]
  },
  {
   "cell_type": "markdown",
   "id": "b1f91105-acab-48ca-9d78-4c78f49179ae",
   "metadata": {},
   "source": [
    "<center>\n",
    "    <figure>\n",
    "        <div>\n",
    "            <img src=\"imagens/baboon.png\"\n",
    "                 style=\"width:512px;height:512px\"\n",
    "                 title=\"Original\"\n",
    "                 align=botton/>\n",
    "        </div>\n",
    "        <div>\n",
    "            <img src=\"results/l2r_sierra_result_hsv.png\"\n",
    "                 style=\"width:512px;height:512px\"\n",
    "                 title=\"l2r_sierra_result_hsv\"/>\n",
    "        </div>\n",
    "        <div>\n",
    "            <img src=\"results/zigzag_sierra_result_hsv.png\"\n",
    "                 style=\"width:512px;height:512px\"\n",
    "                 title=\"ZigZag_sierra_result_hsv\"/>\n",
    "        </div>\n",
    "        <figcaption>Fig 4. Por ordem decrescente a imagem original, a imagem pontilhada com Sierra Left to Rigth, a imagem pontilhada com Sierra ZigZag</figcaption>\n",
    "    </figure>\n",
    "</center>"
   ]
  },
  {
   "cell_type": "markdown",
   "id": "33faeace-0015-44ee-a316-cc55580dc33d",
   "metadata": {},
   "source": [
    ">Este filtro tem um comportamento semelhante ao de Burkes para padrões de pontos. Em relação à distribuição do erro, este filtro preserva melhor o visual da imagem, por exemplo nas áreas mais escuras."
   ]
  },
  {
   "cell_type": "markdown",
   "id": "96a6882b-e8d0-494b-bf7a-81667a46f529",
   "metadata": {
    "tags": []
   },
   "source": [
    "## **Lab**"
   ]
  },
  {
   "cell_type": "markdown",
   "id": "ee015a2a-e724-4dd5-b610-b83500a07c41",
   "metadata": {
    "tags": []
   },
   "source": [
    "### **Stucki**"
   ]
  },
  {
   "cell_type": "markdown",
   "id": "156d649d-0ab7-4926-82fb-8ed98a6ee09d",
   "metadata": {},
   "source": [
    ">##### Stucki Left to Rigth"
   ]
  },
  {
   "cell_type": "code",
   "execution_count": 9,
   "id": "336723f6-804d-4764-b0a6-0230bbc664d1",
   "metadata": {},
   "outputs": [],
   "source": [
    "%run run.py baboon.png Stucki L2R Lab l2r_stucki_result_lab.png \"cv2\""
   ]
  },
  {
   "cell_type": "markdown",
   "id": "5317c34b-284b-41bb-bed1-0ba1ab378e9e",
   "metadata": {},
   "source": [
    ">##### Stucki ZigZag"
   ]
  },
  {
   "cell_type": "code",
   "execution_count": 10,
   "id": "39e5d9c1-1830-42be-9178-53d3c05250d6",
   "metadata": {},
   "outputs": [],
   "source": [
    "%run run.py baboon.png Stucki ZigZag Lab zigzag_stucki_result_lab.png \"cv2\""
   ]
  },
  {
   "cell_type": "markdown",
   "id": "30f6a4e0-dd54-4971-b1c7-16db5b22a7b4",
   "metadata": {},
   "source": [
    "##### **Resultados Stucki**"
   ]
  },
  {
   "cell_type": "markdown",
   "id": "ba403eae-7821-433d-9696-e20d3191b7d3",
   "metadata": {},
   "source": [
    "<center>\n",
    "    <figure>\n",
    "        <div>\n",
    "            <img src=\"imagens/baboon.png\"\n",
    "                 style=\"width:512px;height:512px\"\n",
    "                 title=\"Original\"\n",
    "                 align=botton/>\n",
    "        </div>\n",
    "        <div>\n",
    "            <img src=\"results/l2r_stucki_result_lab.png\"\n",
    "                 style=\"width:512px;height:512px\"\n",
    "                 title=\"l2r_stucki_result_lab\"/>\n",
    "        </div>\n",
    "        <div>\n",
    "            <img src=\"results/zigzag_stucki_result_lab.png\"\n",
    "                 style=\"width:512px;height:512px\"\n",
    "                 title=\"zigzag_stucki_result_Lab\"/>\n",
    "        </div>\n",
    "        <figcaption>Fig 5. Por ordem decrescente a imagem original, a imagem pontilhada com Stucki Left to Rigth, a imagem pontilhada com Stucki ZigZag</figcaption>\n",
    "    </figure>\n",
    "</center>"
   ]
  },
  {
   "cell_type": "markdown",
   "id": "346b988e-50f9-4e6b-8578-7c4fe0f93dfa",
   "metadata": {},
   "source": [
    ">Neste caso, a difusão do erro esclarece muito mais sobre os tons mais escuros."
   ]
  },
  {
   "cell_type": "markdown",
   "id": "4c6ec2a1-be26-444e-ad0b-604118157f59",
   "metadata": {
    "tags": []
   },
   "source": [
    "### **Jarvis**"
   ]
  },
  {
   "cell_type": "markdown",
   "id": "993b06f2-0519-41cc-9e47-0b6e2eb74999",
   "metadata": {},
   "source": [
    ">##### Jarvis Left to Rigth"
   ]
  },
  {
   "cell_type": "code",
   "execution_count": 11,
   "id": "5c9f0983-79c0-46b9-9468-b5ee6a7e3fe3",
   "metadata": {},
   "outputs": [],
   "source": [
    "%run run.py baboon.png Jarvis L2R Lab l2r_jarvis_result_lab.png \"cv2\""
   ]
  },
  {
   "cell_type": "markdown",
   "id": "9e4b5de8-a778-41b0-9b23-f2f58695b102",
   "metadata": {},
   "source": [
    ">##### Jarvis ZigZag"
   ]
  },
  {
   "cell_type": "code",
   "execution_count": 12,
   "id": "33c00aeb-901e-4de2-b942-517ed48033ca",
   "metadata": {},
   "outputs": [],
   "source": [
    "%run run.py baboon.png Jarvis ZigZag Lab zigzag_jarvis_result_lab.png \"cv2\""
   ]
  },
  {
   "cell_type": "markdown",
   "id": "4bf72e5e-7b2e-4155-a4b1-89e67392a566",
   "metadata": {},
   "source": [
    "##### **Resultados Jarvis**"
   ]
  },
  {
   "cell_type": "markdown",
   "id": "d7243e4b-3ea8-4de2-9728-ec9114037211",
   "metadata": {},
   "source": [
    "<center>\n",
    "    <figure>\n",
    "        <div>\n",
    "            <img src=\"imagens/baboon.png\"\n",
    "                 style=\"width:512px;height:512px\"\n",
    "                 title=\"Original\"\n",
    "                 align=botton/>\n",
    "        </div>\n",
    "        <div>\n",
    "            <img src=\"results/l2r_jarvis_result_lab.png\"\n",
    "                 style=\"width:512px;height:512px\"\n",
    "                 title=\"l2r_jarvis_result_lab\"/>\n",
    "        </div>\n",
    "        <div>\n",
    "            <img src=\"results/zigzag_jarvis_result_lab.png\"\n",
    "                 style=\"width:512px;height:512px\"\n",
    "                 title=\"zigzag_jarvis_result_lab\"/>\n",
    "        </div>\n",
    "        <figcaption>Fig 6. Por ordem decrescente a imagem original, a imagem pontilhada com Jarvis Left to Rigth, a imagem pontilhada com Jarvis ZigZag</figcaption>\n",
    "    </figure>\n",
    "</center>"
   ]
  },
  {
   "cell_type": "markdown",
   "id": "cf7e0759-0a5d-4b3d-b25b-8eb7c03fa250",
   "metadata": {},
   "source": [
    ">Neste caso, a difusão do erro esclarece a imagem mas ainda conserva os tons mais escuros. Tambem neste tipo de filtros você pode ver padrões em forma de cobra e você pode ver que tem uma melhor distribuição."
   ]
  },
  {
   "cell_type": "markdown",
   "id": "2f9abd89-83d7-4313-b09e-c4aa3f339b6c",
   "metadata": {
    "tags": []
   },
   "source": [
    "### **BGR**"
   ]
  },
  {
   "cell_type": "markdown",
   "id": "41c4bc45-4ece-4780-b1a3-915e4fd4e7ef",
   "metadata": {},
   "source": [
    ">##### Left to Rigth"
   ]
  },
  {
   "cell_type": "code",
   "execution_count": 13,
   "id": "8cfd37b0-3eb7-4c8e-bdac-8f33830be6ab",
   "metadata": {},
   "outputs": [],
   "source": [
    "%run run.py baboon.png Floyd_steinberg L2R BGR l2r_floyd_steinberg_result_bgr.png \"cv2\"\n",
    "%run run.py baboon.png Stevenson_arce L2R BGR l2r_stevenson_arce_result_bgr.png \"cv2\"\n",
    "%run run.py baboon.png Burkes L2R BGR l2r_burkes_result_bgr.png \"cv2\"\n",
    "%run run.py baboon.png Sierra L2R BGR l2r_sierra_result_bgr.png \"cv2\"\n",
    "%run run.py baboon.png Stucki L2R BGR l2r_stucki_result_bgr.png \"cv2\"\n",
    "%run run.py baboon.png Jarvis L2R BGR l2r_jarvis_result_bgr.png \"cv2\""
   ]
  },
  {
   "cell_type": "markdown",
   "id": "8e70ad6e-430e-4b09-a5c9-c537b0606f9f",
   "metadata": {},
   "source": [
    ">##### Left to Rigth"
   ]
  },
  {
   "cell_type": "code",
   "execution_count": 14,
   "id": "2423cb0e-3322-4f1d-8b14-11138a2711e0",
   "metadata": {},
   "outputs": [],
   "source": [
    "%run run.py baboon.png Floyd_steinberg ZigZag BGR zigzag_floyd_steinberg_result_bgr.png \"cv2\"\n",
    "%run run.py baboon.png Stevenson_arce ZigZag BGR zigzag_stevenson_arce_result_bgr.png \"cv2\"\n",
    "%run run.py baboon.png Burkes ZigZag BGR zigzag_burkes_result_bgr.png \"cv2\"\n",
    "%run run.py baboon.png Sierra ZigZag BGR zigzag_sierra_result_bgr.png \"cv2\"\n",
    "%run run.py baboon.png Stucki ZigZag BGR zigzag_stucki_result_bgr.png \"cv2\"\n",
    "%run run.py baboon.png Jarvis ZigZag BGR zigzag_jarvis_result_bgr.png \"cv2\""
   ]
  },
  {
   "cell_type": "markdown",
   "id": "520ac70a-0b2a-4602-b100-d40c88c000db",
   "metadata": {
    "jp-MarkdownHeadingCollapsed": true,
    "tags": []
   },
   "source": [
    "##### **Resultados Left to Rigth**"
   ]
  },
  {
   "cell_type": "markdown",
   "id": "22903591-505c-464b-ade6-a7c998069fea",
   "metadata": {},
   "source": [
    "<center>\n",
    "    <img src=\"imagens/baboon.png\"\n",
    "             style=\"width:300px;height:300px\"\n",
    "             title=\"Original\"\n",
    "             align=botton/>\n",
    "    <figure>\n",
    "        <div>\n",
    "            <img src=\"results/l2r_floyd_steinberg_result_bgr.png\"\n",
    "                 style=\"width:512px;height:512px\"\n",
    "                 title=\"l2r_floyd_steinberg_result_bgr\"/>\n",
    "        </div>\n",
    "        <div>\n",
    "            <img src=\"results/l2r_stevenson_arce_result_bgr.png\"\n",
    "                 style=\"width:512px;height:512px\"\n",
    "                 title=\"l2r_stevenson_arce_result_bgr\"/>\n",
    "        </div>\n",
    "        <div>\n",
    "            <img src=\"results/l2r_burkes_result_bgr.png\"\n",
    "                 style=\"width:512px;height:512px\"\n",
    "                 title=\"l2r_burkes_result_bgr\"/>\n",
    "        </div>\n",
    "        <div>\n",
    "            <img src=\"results/l2r_sierra_result_bgr.png\"\n",
    "                 style=\"width:512px;height:512px\"\n",
    "                 title=\"l2r_sierra_result_bgr\"/>\n",
    "        </div>\n",
    "        <div>\n",
    "            <img src=\"results/l2r_stucki_result_bgr.png\"\n",
    "                 style=\"width:512px;height:512px\"\n",
    "                 title=\"l2r_stucki_result_bgr\"/>\n",
    "        </div>\n",
    "        <div>\n",
    "            <img src=\"results/l2r_jarvis_result_bgr.png\"\n",
    "                 style=\"width:512px;height:512px\"\n",
    "                 title=\"l2r_jarvis_result_bgr\"/>\n",
    "        </div>\n",
    "        <figcaption>Fig 7. De direita para esquerda: Original, Floyd Steinberg, Stevenson Arce, Burkes Result, Sierra Result, Stucki Result e Jarvis Result com rota isquerda para dereita</figcaption>\n",
    "    </figure>\n",
    "</center>"
   ]
  },
  {
   "cell_type": "markdown",
   "id": "e77b6508-1894-451e-bf69-b66934b6c045",
   "metadata": {
    "tags": []
   },
   "source": [
    "##### **Resultados ZigZag**"
   ]
  },
  {
   "cell_type": "markdown",
   "id": "b3390da3-bb77-47c7-84af-ca09e1c61c2c",
   "metadata": {
    "jp-MarkdownHeadingCollapsed": true,
    "tags": []
   },
   "source": [
    "<center>\n",
    "    <img src=\"imagens/baboon.png\"\n",
    "             style=\"width:400px;height:400px\"\n",
    "             title=\"Original\"\n",
    "             align=botton/>\n",
    "    <figure>\n",
    "        <div>\n",
    "            <img src=\"results/zigzag_floyd_steinberg_result_bgr.png\"\n",
    "                 style=\"width:512px;height:512px\"\n",
    "                 title=\"zigzag_floyd_steinberg_result_bgr\"/>\n",
    "        </div>\n",
    "        <div>\n",
    "            <img src=\"results/zigzag_stevenson_arce_result_bgr.png\"\n",
    "                 style=\"width:512px;height:512px\"\n",
    "                 title=\"zigzag_stevenson_arce_result_bgr\"/>\n",
    "        </div>\n",
    "        <div>\n",
    "            <img src=\"results/zigzag_burkes_result_bgr.png\"\n",
    "                 style=\"width:512px;height:512px\"\n",
    "                 title=\"zigzag_burkes_result_bgr\"/>\n",
    "        </div>\n",
    "        <div>\n",
    "            <img src=\"results/zigzag_sierra_result_bgr.png\"\n",
    "                 style=\"width:512px;height:512px\"\n",
    "                 title=\"zigzag_sierra_result_bgr\"/>\n",
    "        </div>\n",
    "        <div>\n",
    "            <img src=\"results/zigzag_stucki_result_bgr.png\"\n",
    "                 style=\"width:512px;height:512px\"\n",
    "                 title=\"zigzag_stucki_result_bgr\"/>\n",
    "        </div>\n",
    "        <div>\n",
    "            <img src=\"results/l2r_jarvis_result_bgr.png\"\n",
    "                 style=\"width:512px;height:512px\"\n",
    "                 title=\"zigzag_jarvis_result_bgr\"/>\n",
    "        </div>\n",
    "        <figcaption>Fig 14. De direita para esquerda: Original, Floyd Steinberg, Stevenson Arce, Burkes Result, Sierra Result, Stucki Result e Jarvis Result com rota em ZigZag</figcaption>\n",
    "    </figure>\n",
    "</center>"
   ]
  },
  {
   "cell_type": "markdown",
   "id": "a49b0c2c-b3ee-438b-9c17-13a2392c0a05",
   "metadata": {},
   "source": [
    "# Conclusões\n",
    "\n",
    ">- Notáveis diferenças entre os filtros são manifestadas.\n",
    ">- Em algumas das imagens podemos notar como os detalhes se perdem.\n",
    ">- As bordas dos lados junto com a borda inferior são perdidas, por isso é aconselhável ajustar o tamanho da imagem.\n",
    ">- A forma como a imagem é atravessada também gera diferenças notáveis."
   ]
  }
 ],
 "metadata": {
  "kernelspec": {
   "display_name": "Python 3 (ipykernel)",
   "language": "python",
   "name": "python3"
  },
  "language_info": {
   "codemirror_mode": {
    "name": "ipython",
    "version": 3
   },
   "file_extension": ".py",
   "mimetype": "text/x-python",
   "name": "python",
   "nbconvert_exporter": "python",
   "pygments_lexer": "ipython3",
   "version": "3.8.10"
  }
 },
 "nbformat": 4,
 "nbformat_minor": 5
}
